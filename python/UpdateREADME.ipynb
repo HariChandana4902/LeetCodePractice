{
 "cells": [
  {
   "cell_type": "code",
   "execution_count": 1,
   "metadata": {},
   "outputs": [],
   "source": [
    "import pandas as pd"
   ]
  },
  {
   "cell_type": "code",
   "execution_count": 2,
   "metadata": {
    "pycharm": {
     "name": "#%%\n"
    }
   },
   "outputs": [],
   "source": [
    "def merge(row):\n",
    "    return f'[Solution]({row[\"Solution\"]})'"
   ]
  },
  {
   "cell_type": "code",
   "execution_count": 3,
   "metadata": {},
   "outputs": [],
   "source": [
    "def simply(txt):\n",
    "    txtc = str(txt)\n",
    "    try:\n",
    "        txt = txt[len(\"src/test/java/\"):]\n",
    "        return txt[txt.index(\"/\") + 1:]\n",
    "    except:\n",
    "        return txtc"
   ]
  },
  {
   "cell_type": "code",
   "execution_count": 4,
   "metadata": {},
   "outputs": [],
   "source": [
    "def qmerge(row):\n",
    "    return f'[{row[\"LC Qno.\"]}]({row[\"Q Link\"]})'"
   ]
  },
  {
   "cell_type": "code",
   "execution_count": 5,
   "metadata": {
    "pycharm": {
     "name": "#%%\n"
    }
   },
   "outputs": [],
   "source": [
    "data = pd.read_excel(\"LC.xlsx\")"
   ]
  },
  {
   "cell_type": "code",
   "execution_count": 6,
   "metadata": {
    "pycharm": {
     "name": "#%%\n"
    }
   },
   "outputs": [],
   "source": [
    "data[\"Solution\"] = data[\"Solution\"].fillna(\"\")\n",
    "data[\"Notes\"] = data[\"Notes\"].fillna(\"\")"
   ]
  },
  {
   "cell_type": "code",
   "execution_count": 7,
   "metadata": {
    "pycharm": {
     "name": "#%%\n"
    }
   },
   "outputs": [
    {
     "name": "stdout",
     "output_type": "stream",
     "text": [
      "Index(['LC Qno.', 'Q Link', 'name', 'Tag', 'Solution', 'Notes', 'link',\n",
      "       'QLink'],\n",
      "      dtype='object')\n"
     ]
    }
   ],
   "source": [
    "data[\"link\"] = data.apply(merge, axis=1)\n",
    "data[\"QLink\"] = data.apply(qmerge, axis=1)\n",
    "print(data.columns)"
   ]
  },
  {
   "cell_type": "code",
   "execution_count": 8,
   "metadata": {},
   "outputs": [],
   "source": [
    "# data.to_csv(\"LCQ.csv\")\n",
    "data = data.values.tolist()"
   ]
  },
  {
   "cell_type": "code",
   "execution_count": 9,
   "metadata": {},
   "outputs": [],
   "source": [
    "def convert_to_readme_txt(row):\n",
    "    ls = [row[-1], row[2], row[3], row[5], row[-2]]\n",
    "    return f\"{' | '.join(map(str, ls))}\""
   ]
  },
  {
   "cell_type": "code",
   "execution_count": 10,
   "outputs": [],
   "source": [
    "def get_table():\n",
    "    return '\\n'.join(map(convert_to_readme_txt, data))"
   ],
   "metadata": {
    "collapsed": false,
    "pycharm": {
     "name": "#%%\n"
    }
   }
  },
  {
   "cell_type": "code",
   "execution_count": 11,
   "metadata": {},
   "outputs": [],
   "source": [
    "with open(\"../README.md\", \"w\") as f:\n",
    "    string = f'# LeetCodePractice\\n\\n[![CI Tests](https://github.com/akksshah/LeetCodePractice/actions/workflows/maven.yml/badge.svg)](https://github.com/akksshah/LeetCodePractice/actions/workflows/maven.yml)\\n\\n## Table of Contents\\n\\nLC QNo. | name | Tag | Notes | Solution\\n---- | --- | ----  | ---- | ----\\n{get_table()}'\n",
    "    f.writelines(string)"
   ]
  },
  {
   "cell_type": "code",
   "execution_count": 11,
   "metadata": {},
   "outputs": [],
   "source": []
  }
 ],
 "metadata": {
  "kernelspec": {
   "display_name": "Python 3",
   "language": "python",
   "name": "python3"
  },
  "language_info": {
   "codemirror_mode": {
    "name": "ipython",
    "version": 3
   },
   "file_extension": ".py",
   "mimetype": "text/x-python",
   "name": "python",
   "nbconvert_exporter": "python",
   "pygments_lexer": "ipython3",
   "version": "3.9.1"
  }
 },
 "nbformat": 4,
 "nbformat_minor": 1
}