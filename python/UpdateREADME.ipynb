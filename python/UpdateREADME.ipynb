{
 "cells": [
  {
   "cell_type": "code",
   "execution_count": 34,
   "metadata": {},
   "outputs": [],
   "source": [
    "import pandas as pd"
   ]
  },
  {
   "cell_type": "code",
   "execution_count": 35,
   "metadata": {
    "pycharm": {
     "name": "#%%\n"
    }
   },
   "outputs": [],
   "source": [
    "def merge(row):\n",
    "    return f'[Solution]({row[\"Solution\"]})'"
   ]
  },
  {
   "cell_type": "code",
   "execution_count": 36,
   "metadata": {},
   "outputs": [],
   "source": [
    "def simply(txt):\n",
    "    txtc = str(txt)\n",
    "    try:\n",
    "        txt = txt[len(\"src/test/java/\"):]\n",
    "        return txt[txt.index(\"/\") + 1:]\n",
    "    except:\n",
    "        return txtc"
   ]
  },
  {
   "cell_type": "code",
   "execution_count": 37,
   "metadata": {},
   "outputs": [],
   "source": [
    "def qmerge(row):\n",
    "    return f'[{row[\"LC Qno.\"]}]({row[\"Q Link\"]})'"
   ]
  },
  {
   "cell_type": "code",
   "execution_count": 38,
   "metadata": {
    "pycharm": {
     "name": "#%%\n"
    }
   },
   "outputs": [],
   "source": [
    "data = pd.read_excel(\"LC.xlsx\")"
   ]
  },
  {
   "cell_type": "code",
   "execution_count": 39,
   "metadata": {
    "pycharm": {
     "name": "#%%\n"
    }
   },
   "outputs": [],
   "source": [
    "data[\"Solution\"] = data[\"Solution\"].fillna(\"\")\n",
    "data[\"Notes\"] = data[\"Notes\"].fillna(\"\")"
   ]
  },
  {
   "cell_type": "code",
   "execution_count": 40,
   "metadata": {
    "pycharm": {
     "name": "#%%\n"
    }
   },
   "outputs": [
    {
     "name": "stdout",
     "output_type": "stream",
     "text": [
      "Index(['LC Qno.', 'Q Link', 'name', 'Tag', 'Solution', 'Notes', 'link',\n",
      "       'QLink'],\n",
      "      dtype='object')\n"
     ]
    }
   ],
   "source": [
    "data[\"link\"] = data.apply(merge, axis=1)\n",
    "data[\"QLink\"] = data.apply(qmerge, axis=1)\n",
    "print(data.columns)"
   ]
  },
  {
   "cell_type": "code",
   "execution_count": 41,
   "metadata": {},
   "outputs": [],
   "source": [
    "# data.to_csv(\"LCQ.csv\")\n",
    "data = data.values.tolist()"
   ]
  },
  {
   "cell_type": "code",
   "execution_count": 42,
   "metadata": {},
   "outputs": [],
   "source": [
    "def convert_to_readme_txt(row):\n",
    "    ls = [row[-1], row[2], row[3], row[5], row[-2]]\n",
    "    return f\"{' | '.join(map(str, ls))}\""
   ]
  },
  {
   "cell_type": "code",
   "execution_count": 43,
   "metadata": {},
   "outputs": [
    {
     "name": "stdout",
     "output_type": "stream",
     "text": [
      "[1](https://leetcode.com/problems/two-sum/) | Two Sum | easy |  | [Solution]()\n",
      "[2](https://leetcode.com/problems/add-two-numbers/) | Add 2 Num | medium |  | [Solution](src/leetcode/medium/Add2Num.java)\n",
      "[7](https://leetcode.com/problems/reverse-integer/) | Reverse Integer | easy | Overflow issues are a buzz kill | [Solution](src/test/java/easy/ReverseInteger.java)\n",
      "[11](https://leetcode.com/problems/container-with-most-water/) | Container with Most Water | medium |  | [Solution]()\n",
      "[13](https://leetcode.com/problems/roman-to-integer/) | Roman to Integer | easy |  | [Solution]()\n",
      "[20](https://leetcode.com/problems/valid-parentheses/) | Valid Parentheses | easy |  | [Solution]()\n",
      "[21](https://leetcode.com/problems/merge-two-sorted-lists/) | Merge Two Sorted Lists | easy |  | [Solution]()\n",
      "[22](https://leetcode.com/problems/generate-parentheses/) | Generate Parentheses | medium |  | [Solution]()\n",
      "[26](https://leetcode.com/problems/remove-duplicates-from-sorted-array/) | Remove Duplicates from Sorted Array | easy |  | [Solution]()\n",
      "[27](https://leetcode.com/problems/remove-element/) | Remove Element | easy |  | [Solution]()\n",
      "[28](https://leetcode.com/problems/implement-strstr/) | Implement strStr() | easy |  | [Solution]()\n",
      "[32](https://leetcode.com/problems/longest-valid-parentheses/) | Longest Valid Parentheses | hard |  | [Solution]()\n",
      "[33](https://leetcode.com/problems/search-in-rotated-sorted-array/) | Search in Rotated Sorted Array | medium |  | [Solution]()\n",
      "[35](https://leetcode.com/problems/search-insert-position/) | Search Insert Position | easy |  | [Solution]()\n",
      "[52](https://leetcode.com/problems/n-queens-ii/) | N-Queens II | hard |  | [Solution]()\n",
      "[53](https://leetcode.com/problems/maximum-subarray/) | Maximum Subarray | easy |  | [Solution]()\n",
      "[66](https://leetcode.com/problems/plus-one/) | Plus One | easy |  | [Solution]()\n",
      "[69](https://leetcode.com/problems/sqrtx/) | Sqrt(x) | easy |  | [Solution]()\n",
      "[70](https://leetcode.com/problems/climbing-stairs/) | Climbing Stairs | easy | Simple dp very basic, don’t use recursion, tc very bad | [Solution]()\n",
      "[83](https://leetcode.com/problems/remove-duplicates-from-sorted-list/) | Remove Duplicates from Sorted List | easy |  | [Solution]()\n",
      "[88](https://leetcode.com/problems/merge-sorted-array/) | Merge Sorted Array | easy |  | [Solution]()\n",
      "[94](https://leetcode.com/problems/binary-tree-inorder-traversal/) | Binary Tree Inorder Traversal | easy |  | [Solution](src/leetcode/medium/BinaryTreeInorderTraversal.java)\n",
      "[97](https://leetcode.com/problems/interleaving-string/) | Interleaving String | medium |  | [Solution]()\n",
      "[98](https://leetcode.com/problems/validate-binary-search-tree/) | Validate Binary Search Tree | medium |  | [Solution]()\n",
      "[101](https://leetcode.com/problems/symmetric-tree/) | Symmetric Tree | easy |  | [Solution]()\n",
      "[102](https://leetcode.com/problems/binary-tree-level-order-traversal/) | Binary Tree Level Order Traversal | medium |  | [Solution]()\n",
      "[103](https://leetcode.com/problems/binary-tree-zigzag-level-order-traversal/) | Binary Tree Zigzag Level Order Traversal | medium |  | [Solution]()\n",
      "[104](https://leetcode.com/problems/maximum-depth-of-binary-tree/) | Maximum Depth of Binary Tree | easy |  | [Solution]()\n",
      "[108](https://leetcode.com/problems/convert-sorted-array-to-binary-search-tree/) | Convert Sorted Array to Binary Search Tree | easy |  | [Solution]()\n",
      "[118](https://leetcode.com/problems/pascals-triangle/) | Pascal's Triangle | easy |  | [Solution]()\n",
      "[121](https://leetcode.com/problems/best-time-to-buy-and-sell-stock/) | Best Time to Buy and Sell Stock | easy |  | [Solution]()\n",
      "[124](https://leetcode.com/problems/binary-tree-maximum-path-sum/) | Binary Tree Maximum Path Sum | hard |  | [Solution]()\n",
      "[125](https://leetcode.com/problems/valid-palindrome/) | Valid Palindrome | easy |  | [Solution]()\n",
      "[128](https://leetcode.com/problems/longest-consecutive-sequence/) | Longest Consecutive Sequence | medium | Sorting is simple and tc is O(NlogN). But use Set and HashMap to reduce it to O(N). Provided solution is much smarter | [Solution]()\n",
      "[136](https://leetcode.com/problems/single-number/) | Single Number | easy |  | [Solution]()\n",
      "[141](https://leetcode.com/problems/linked-list-cycle/) | Linked List Cycle | easy |  | [Solution]()\n",
      "[144](https://leetcode.com/problems/binary-tree-preorder-traversal/) | Binary Tree Preorder Traversal | easy |  | [Solution]()\n",
      "[145](https://leetcode.com/problems/binary-tree-postorder-traversal/) | Binary Tree Postorder Traversal | easy |  | [Solution]()\n",
      "[146](https://leetcode.com/problems/lru-cache/) | LRU Cache | medium |  | [Solution]()\n",
      "[150](https://leetcode.com/problems/evaluate-reverse-polish-notation/) | Evaluate Reverse Polish Notation | medium |  | [Solution]()\n",
      "[155](https://leetcode.com/problems/min-stack/) | Min Stack | easy |  | [Solution]()\n",
      "[160](https://leetcode.com/problems/intersection-of-two-linked-lists/) | Intersection of Two Linked Lists | easy |  | [Solution]()\n",
      "[169](https://leetcode.com/problems/majority-element/) | Majority Element | easy |  | [Solution]()\n",
      "[171](https://leetcode.com/problems/excel-sheet-column-number/) | Excel Sheet Column Number | easy |  | [Solution]()\n",
      "[172](https://leetcode.com/problems/factorial-trailing-zeroes/) | Factorial Trailing Zeroes | easy |  | [Solution]()\n",
      "[189](https://leetcode.com/problems/rotate-array/) | Rotate Array | medium |  | [Solution]()\n",
      "[190](https://leetcode.com/problems/reverse-bits/) | Reverse Bits | easy |  | [Solution]()\n",
      "[191](https://leetcode.com/problems/number-of-1-bits/) | Number of 1 Bits | easy |  | [Solution]()\n",
      "[200](https://leetcode.com/problems/number-of-islands/) | Number of Islands | medium |  | [Solution]()\n",
      "[202](https://leetcode.com/problems/happy-number/) | Happy Number | easy |  | [Solution]()\n",
      "[204](https://leetcode.com/problems/count-primes/) | Count Primes | easy |  | [Solution]()\n",
      "[206](https://leetcode.com/problems/reverse-linked-list/) | Reverse Linked List | easy |  | [Solution]()\n",
      "[217](https://leetcode.com/problems/contains-duplicate/) | Contains Duplicate | easy |  | [Solution]()\n",
      "[219](https://leetcode.com/problems/contains-duplicate-ii/) | Contains Duplicate II | easy |  | [Solution]()\n",
      "[220](https://leetcode.com/problems/contains-duplicate-iii/) | Contains Duplicate III | medium |  | [Solution](src/leetcode/medium/ContainsDuplicate3.java)\n",
      "[237](https://leetcode.com/problems/delete-node-in-a-linked-list/) | Delete Node in a Linked List | easy |  | [Solution]()\n",
      "[242](https://leetcode.com/problems/valid-anagram/) | Valid Anagram | easy |  | [Solution]()\n",
      "[256](https://leetcode.com/problems/paint-house/) | Paint House | medium |  | [Solution]()\n",
      "[268](https://leetcode.com/problems/missing-number/) | Missing Number | easy |  | [Solution]()\n",
      "[278](https://leetcode.com/problems/first-bad-version/) | First Bad Version | easy |  | [Solution]()\n",
      "[283](https://leetcode.com/problems/move-zeroes/) | Move Zeroes | easy |  | [Solution]()\n",
      "[287](https://leetcode.com/problems/find-the-duplicate-number/) | Find the Duplicate Number | medium |  | [Solution]()\n",
      "[318](https://leetcode.com/problems/maximum-product-of-word-lengths/) | Maximum Product of Word Lengths | medium |  | [Solution]()\n",
      "[326](https://leetcode.com/problems/power-of-three/) | Power of Three | easy |  | [Solution]()\n",
      "[344](https://leetcode.com/problems/reverse-string/) | Reverse String | easy |  | [Solution](src/test/java/easy/ReverseString.java)\n",
      "[347](https://leetcode.com/problems/top-k-frequent-elements/) | Top K Frequent Elements | medium |  | [Solution]()\n",
      "[348](https://leetcode.com/problems/design-tic-tac-toe/) | Design Tic-Tac-Toe | medium |  | [Solution]()\n",
      "[350](https://leetcode.com/problems/intersection-of-two-arrays-ii/) | Intersection of Two Arrays II | easy |  | [Solution]()\n",
      "[371](https://leetcode.com/problems/sum-of-two-integers/) | Sum of Two Integers | medium |  | [Solution]()\n",
      "[384](https://leetcode.com/problems/shuffle-an-array/) | Shuffle an Array | medium |  | [Solution]()\n",
      "[387](https://leetcode.com/problems/first-unique-character-in-a-string/) | First Unique Character in a String | easy |  | [Solution]()\n",
      "[412](https://leetcode.com/problems/fizz-buzz/) | Fizz Buzz | easy | Multiple solution, best one is which does not use modulo operation | [Solution]()\n",
      "[417](https://leetcode.com/problems/pacific-atlantic-water-flow/) | Pacific Atlantic Water Flow | medium |  | [Solution]()\n",
      "[448](https://leetcode.com/problems/find-all-numbers-disappeared-in-an-array/) | Find All Numbers Disappeared in an Array | easy |  | [Solution]()\n",
      "[461](https://leetcode.com/problems/hamming-distance/) | Hamming Distance | easy |  | [Solution]()\n",
      "[509](https://leetcode.com/problems/fibonacci-number/) | Fibonacci Number | easy |  | [Solution]()\n",
      "[551](https://leetcode.com/problems/student-attendance-record-i/) | Student Attendance Record I | easy |  | [Solution]()\n",
      "[557](https://leetcode.com/problems/reverse-words-in-a-string-iii/) | Reverse Words in a String III | easy |  | [Solution]()\n",
      "[572](https://leetcode.com/problems/subtree-of-another-tree/) | Subtree of Another Tree | easy |  | [Solution]()\n",
      "[583](https://leetcode.com/problems/delete-operation-for-two-strings/) | Delete Operation for Two Strings | medium |  | [Solution]()\n",
      "[595](https://leetcode.com/problems/big-countries/) | Big Countries | easy |  | [Solution]()\n",
      "[609](https://leetcode.com/problems/find-duplicate-file-in-system/) | Find Duplicate Flie in System | medium |  | [Solution]()\n",
      "[617](https://leetcode.com/problems/merge-two-binary-trees/) | Merge Two Binary Trees | easy |  | [Solution]()\n",
      "[630](https://leetcode.com/problems/course-schedule-iii/) | Course Schedule III | hard |  | [Solution]()\n",
      "[647](https://leetcode.com/problems/palindromic-substrings/) | Palindromic Substrings | medium |  | [Solution]()\n",
      "[665](https://leetcode.com/problems/non-decreasing-array/) | Non-decreasing Array | medium |  | [Solution]()\n",
      "[695](https://leetcode.com/problems/max-area-of-island/) | Max Area of Island | medium |  | [Solution]()\n",
      "[700](https://leetcode.com/problems/search-in-a-binary-search-tree/) | Search in a Binary Search Tree | easy |  | [Solution]()\n",
      "[709](https://leetcode.com/problems/to-lower-case/) | To lower Case | easy |  | [Solution]()\n",
      "[728](https://leetcode.com/problems/self-dividing-numbers/) | Self Dividing Numbers | easy |  | [Solution]()\n",
      "[745](https://leetcode.com/problems/prefix-and-suffix-search/) | Prefix and Suffix Search | hard |  | [Solution]()\n",
      "[752](https://leetcode.com/problems/open-the-lock/) | Open the Lock | medium |  | [Solution]()\n",
      "[771](https://leetcode.com/problems/jewels-and-stones/) | Jewels and Stones | easy |  | [Solution]()\n",
      "[804](https://leetcode.com/problems/unique-morse-code-words/) | Unique Morse Code Words | easy |  | [Solution]()\n",
      "[811](https://leetcode.com/problems/subdomain-visit-count/) | Subdomain Visit Count | easy |  | [Solution]()\n",
      "[841](https://leetcode.com/problems/keys-and-rooms/) | Keys and Rooms | medium | BFS simpler, can also use dfs | [Solution](src/test/java/medium/KeysAndRooms.java)\n",
      "[869](https://leetcode.com/problems/reordered-power-of-2/) | Reordered Power of 2 | medium |  | [Solution]()\n",
      "[870](https://leetcode.com/problems/advantage-shuffle/) | Advantage Shuffle | medium |  | [Solution](src/leetcode/medium/AdvantageShuffle.java)\n",
      "[876](https://leetcode.com/problems/middle-of-the-linked-list/) | Middle of the Linked List | easy |  | [Solution]()\n",
      "[905](https://leetcode.com/problems/sort-array-by-parity/) | Sort Array By Parity | easy |  | [Solution]()\n",
      "[906](https://leetcode.com/problems/super-palindromes/) | Super Palindromes | hard |  | [Solution]()\n",
      "[912](https://leetcode.com/problems/sort-an-array/) | Sort an Array | medium |  | [Solution]()\n",
      "[916](https://leetcode.com/problems/word-subsets/) | Word Subsets | medium |  | [Solution]()\n",
      "[933](https://leetcode.com/problems/number-of-recent-calls/) | Number of Recent Calls | easy |  | [Solution]()\n",
      "[936](https://leetcode.com/problems/stamping-the-sequence/) | Stamping the Sequence | hard |  | [Solution]()\n",
      "[937](https://leetcode.com/problems/reorder-data-in-log-files/) | Reorder Data in Log Files | easy | Custom comparator | [Solution](src/leetcode/easy/ReorderDataInLogFiles.java)\n",
      "[942](https://leetcode.com/problems/di-string-match/) | DI String Match | easy |  | [Solution]()\n",
      "[966](https://leetcode.com/problems/vowel-spellchecker/) | Vowel Spellchecker | medium |  | [Solution]()\n",
      "[977](https://leetcode.com/problems/squares-of-a-sorted-array/) | Squares of a Sorted Array | easy |  | [Solution]()\n",
      "[1002](https://leetcode.com/problems/find-common-characters/) | Find Common Characters | easy |  | [Solution]()\n",
      "[1010](https://leetcode.com/problems/pairs-of-songs-with-total-durations-divisible-by-60/) | Pairs of Songs With Total Durations Divisible by 60 | medium | Use array to cache | [Solution](src/leetcode/medium/PairsOfSongsWithTotalDurationsDivisibleBy60.java)\n",
      "[1041](https://leetcode.com/problems/robot-bounded-in-circle/) | Robot Bounded In Circle | medium |  | [Solution]()\n",
      "[1048](https://leetcode.com/problems/longest-string-chain/) | Longest String Chain | medium |  | [Solution]()\n",
      "[1108](https://leetcode.com/problems/defanging-an-ip-address/) | Defanging an IP address | easy |  | [Solution]()\n",
      "[1167](https://leetcode.com/problems/minimum-cost-to-connect-sticks/) | Minimum Cost to Connect Sticks | medium |  | [Solution]()\n",
      "[1197](https://leetcode.com/problems/minimum-knight-moves/) | Minimum Knight Moves | medium |  | [Solution]()\n",
      "[1207](https://leetcode.com/problems/unique-number-of-occurrences/) | Unique Number of Occurrences | easy |  | [Solution]()\n",
      "[1217](https://leetcode.com/problems/minimum-cost-to-move-chips-to-the-same-position/) | Minimum Cost to Move Chips to The Same Position | easy |  | [Solution](src/test/java/easy/MinimumCostToMoveChipsToTheSamePosition.java)\n",
      "[1252](https://leetcode.com/problems/cells-with-odd-values-in-a-matrix/) | Cells with Odd Values in a Matrix | easy |  | [Solution]()\n",
      "[1268](https://leetcode.com/problems/search-suggestions-system/) | Search Suggestions System | medium |  | [Solution]()\n",
      "[1281](https://leetcode.com/problems/subtract-the-product-and-sum-of-digits-of-an-integer/) | Subtract the Product and Sum of Digits of an Integer | easy |  | [Solution]()\n",
      "[1290](https://leetcode.com/problems/convert-binary-number-in-a-linked-list-to-integer/) | Convert Binary number in a linked list to Integer | easy |  | [Solution]()\n",
      "[1295](https://leetcode.com/problems/find-numbers-with-even-number-of-digits/) | Find Numbers with Even Number of Digits | easy |  | [Solution]()\n",
      "[1304](https://leetcode.com/problems/find-n-unique-integers-sum-up-to-zero/) | Find N Unique Integers Sum up to Zero | easy |  | [Solution]()\n",
      "[1313](https://leetcode.com/problems/decompress-run-length-encoded-list/) | Decompress Run-Length Encoded List | easy |  | [Solution]()\n",
      "[1342](https://leetcode.com/problems/number-of-steps-to-reduce-a-number-to-zero/) | Number of Steps to Reduce a Number to Zero | easy |  | [Solution]()\n",
      "[1365](https://leetcode.com/problems/how-many-numbers-are-smaller-than-the-current-number/) | How Many Numbers Are Smaller Than the Current Number | easy | Constraints play a huge role | [Solution]()\n",
      "[1383](https://leetcode.com/problems/maximum-performance-of-a-team/) | Maximum Performance of a Team | hard |  | [Solution]()\n",
      "[1423](https://leetcode.com/problems/maximum-points-you-can-obtain-from-cards/) | Maximum Poiints You Can Obtain from Cards | medium |  | [Solution]()\n",
      "[1431](https://leetcode.com/problems/kids-with-the-greatest-number-of-candies/) | Kids With the Greatest Number of Candies | easy |  | [Solution]()\n",
      "[1441](https://leetcode.com/problems/build-an-array-with-stack-operations/) | Build an Array With Stack Operations | easy |  | [Solution]()\n",
      "[1460](https://leetcode.com/problems/make-two-arrays-equal-by-reversing-sub-arrays/) | Make Two Arrays Equal by Reversing Sub-arrays | easy |  | [Solution]()\n",
      "[1465](https://leetcode.com/problems/maximum-area-of-a-piece-of-cake-after-horizontal-and-vertical-cuts/) | Maximum Area of a Piece of Cake After Horizontal and Vertical Cuts | medium |  | [Solution]()\n",
      "[1470](https://leetcode.com/problems/shuffle-the-array/) | Shuffle the Array | easy |  | [Solution]()\n",
      "[1476](https://leetcode.com/problems/subrectangle-queries/) | Subrectangle Queries | medium | Defining a class and performing operations | [Solution](src/test/java/medium/SubrectangleQueriesTest.java)\n",
      "[1480](https://leetcode.com/problems/running-sum-of-1d-array/) | Running Sum of 1d Array | easy | streamable option exists | [Solution](src/test/java/easy/RunningSumOf1DArray.java)\n",
      "[1486](https://leetcode.com/problems/xor-operation-in-an-array/) | XOR Operation in an Array | easy |  | [Solution]()\n",
      "[1491](https://leetcode.com/problems/average-salary-excluding-the-minimum-and-maximum-salary/) | Average Salary Excluding the Minimum and Maximum Salary | easy |  | [Solution]()\n",
      "[1512](https://leetcode.com/problems/number-of-good-pairs/) | Number of Good Pairs | easy |  | [Solution]()\n",
      "[1528](https://leetcode.com/problems/shuffle-string/) | Shuffle String | easy |  | [Solution]()\n",
      "[1572](https://leetcode.com/problems/matrix-diagonal-sum/) | Matrix Diagonal Sum | easy |  | [Solution]()\n",
      "[1603](https://leetcode.com/problems/design-parking-system/) | Design Parking System | easy |  | [Solution]()\n",
      "[1614](https://leetcode.com/problems/maximum-nesting-depth-of-the-parentheses/) | Maximum Nesting Depth of the Parentheses | easy |  | [Solution]()\n",
      "[1662](https://leetcode.com/problems/check-if-two-string-arrays-are-equivalent/) | Check If Two String Arrays are Equivalent | easy |  | [Solution]()\n",
      "[1672](https://leetcode.com/problems/richest-customer-wealth/) | Richest Customer Wealth | easy |  | [Solution]()\n",
      "[1678](https://leetcode.com/problems/goal-parser-interpretation/) | Goal Parser Interpretation | easy |  | [Solution]()\n",
      "[1684](https://leetcode.com/problems/count-the-number-of-consistent-strings/) | Count the Number of Consistent Strings | easy |  | [Solution]()\n",
      "[1688](https://leetcode.com/problems/count-of-matches-in-tournament/) | Count of Matches in Tournament | easy |  | [Solution]()\n",
      "[1689](https://leetcode.com/problems/partitioning-into-minimum-number-of-deci-binary-numbers/) | Partitioning Into Minimum Number of Deci-Binary Numbers | medium |  | [Solution]()\n",
      "[1704](https://leetcode.com/problems/determine-if-string-halves-are-alike/) | Determine if String Halves Are Alike | easy |  | [Solution]()\n",
      "[1720](https://leetcode.com/problems/decode-xored-array/) | Decode XORed Array | easy |  | [Solution]()\n",
      "[1732](https://leetcode.com/problems/find-the-highest-altitude/) | Find the Highest Altitude | easy |  | [Solution]()\n",
      "[1748](https://leetcode.com/problems/sum-of-unique-elements/) | Sum of Unique Elements | easy |  | [Solution]()\n",
      "[1768](https://leetcode.com/problems/merge-strings-alternately/) | Merge Strings Alternately | easy |  | [Solution]()\n",
      "[1769](https://leetcode.com/problems/minimum-number-of-operations-to-move-all-balls-to-each-box/) | Minimum Number of Operations to Move All Balls to Each Box | medium |  | [Solution](src/test/java/medium/MinimumNumberOfOperationsToMoveAllBallsToEachBox.java)\n",
      "[1773](https://leetcode.com/problems/count-items-matching-a-rule/) | Count Items Matching a Rule | easy |  | [Solution]()\n",
      "[1791](https://leetcode.com/problems/find-center-of-star-graph/) | Find Center of Star Graph | medium |  | [Solution]()\n",
      "[1848](https://leetcode.com/problems/minimum-distance-to-the-target-element/) | Minimum Distance to the Target Element | easy |  | [Solution]()\n",
      "[1880](https://leetcode.com/problems/check-if-word-equals-summation-of-two-words/) | Check if Word Equals Summation of Two Words | easy |  | [Solution]()\n"
     ]
    }
   ],
   "source": [
    "print('\\n'.join(map(convert_to_readme_txt, data)))"
   ]
  },
  {
   "cell_type": "code",
   "execution_count": null,
   "metadata": {},
   "outputs": [],
   "source": []
  }
 ],
 "metadata": {
  "kernelspec": {
   "display_name": "Python 3",
   "language": "python",
   "name": "python3"
  },
  "language_info": {
   "codemirror_mode": {
    "name": "ipython",
    "version": 3
   },
   "file_extension": ".py",
   "mimetype": "text/x-python",
   "name": "python",
   "nbconvert_exporter": "python",
   "pygments_lexer": "ipython3",
   "version": "3.9.1"
  }
 },
 "nbformat": 4,
 "nbformat_minor": 1
}